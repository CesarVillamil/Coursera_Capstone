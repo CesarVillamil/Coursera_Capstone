{
 "cells": [
  {
   "cell_type": "markdown",
   "id": "f0800cc3-5eda-4268-a0a3-d8906919d7d4",
   "metadata": {},
   "source": [
    "# Análisis Inmobiliario en Mérida."
   ]
  },
  {
   "cell_type": "markdown",
   "id": "90ab2b04-cb61-412f-98fe-7b513cd69dfc",
   "metadata": {},
   "source": [
    "Primero se realiza la extracción de los datos mediante _web scraping_, esta información pertenece a la página **Inmuebles24**. En la presente base de datos se encuentran las características principales de las casas en venta de la ciudad de Mérida, Yucatán; dicha base ya se encuentra depurada y lista para ser analizada, este proceso se realizó de manera previa en _Excel_.  \n"
   ]
  },
  {
   "cell_type": "markdown",
   "id": "95910084-c8bb-46f6-9b6a-8b7ddf30648d",
   "metadata": {},
   "source": [
    "Observemos la base de datos que se obtuvo:"
   ]
  },
  {
   "cell_type": "code",
   "execution_count": 5,
   "id": "1473c08f-6a7a-4aad-88a4-4076913ea791",
   "metadata": {
    "jupyter": {
     "source_hidden": true
    },
    "tags": []
   },
   "outputs": [],
   "source": [
    "import pandas as pd"
   ]
  },
  {
   "cell_type": "code",
   "execution_count": 9,
   "id": "8584ef83-7f80-421c-856b-1bfc9ae00429",
   "metadata": {
    "jupyter": {
     "source_hidden": true
    },
    "tags": []
   },
   "outputs": [],
   "source": [
    "base_inmuebles = pd.read_csv('Inmuebles24.csv', sep = ';')"
   ]
  },
  {
   "cell_type": "code",
   "execution_count": 11,
   "id": "3fdb3f59-dd72-4428-a2f7-e4faaa835cda",
   "metadata": {
    "jupyter": {
     "source_hidden": true
    },
    "tags": []
   },
   "outputs": [
    {
     "data": {
      "text/html": [
       "<div>\n",
       "<style scoped>\n",
       "    .dataframe tbody tr th:only-of-type {\n",
       "        vertical-align: middle;\n",
       "    }\n",
       "\n",
       "    .dataframe tbody tr th {\n",
       "        vertical-align: top;\n",
       "    }\n",
       "\n",
       "    .dataframe thead th {\n",
       "        text-align: right;\n",
       "    }\n",
       "</style>\n",
       "<table border=\"1\" class=\"dataframe\">\n",
       "  <thead>\n",
       "    <tr style=\"text-align: right;\">\n",
       "      <th></th>\n",
       "      <th>precio</th>\n",
       "      <th>mt construido</th>\n",
       "      <th>mt totales</th>\n",
       "      <th>cuartos</th>\n",
       "      <th>banos</th>\n",
       "    </tr>\n",
       "  </thead>\n",
       "  <tbody>\n",
       "    <tr>\n",
       "      <th>0</th>\n",
       "      <td>4715000</td>\n",
       "      <td>289</td>\n",
       "      <td>990</td>\n",
       "      <td>3</td>\n",
       "      <td>3</td>\n",
       "    </tr>\n",
       "    <tr>\n",
       "      <th>1</th>\n",
       "      <td>2650000</td>\n",
       "      <td>167</td>\n",
       "      <td>99</td>\n",
       "      <td>2</td>\n",
       "      <td>2</td>\n",
       "    </tr>\n",
       "    <tr>\n",
       "      <th>2</th>\n",
       "      <td>1740000</td>\n",
       "      <td>106</td>\n",
       "      <td>99</td>\n",
       "      <td>2</td>\n",
       "      <td>2</td>\n",
       "    </tr>\n",
       "    <tr>\n",
       "      <th>3</th>\n",
       "      <td>6250000</td>\n",
       "      <td>365</td>\n",
       "      <td>985</td>\n",
       "      <td>3</td>\n",
       "      <td>4</td>\n",
       "    </tr>\n",
       "    <tr>\n",
       "      <th>4</th>\n",
       "      <td>691095</td>\n",
       "      <td>56</td>\n",
       "      <td>98</td>\n",
       "      <td>2</td>\n",
       "      <td>1</td>\n",
       "    </tr>\n",
       "    <tr>\n",
       "      <th>5</th>\n",
       "      <td>2750000</td>\n",
       "      <td>167</td>\n",
       "      <td>98</td>\n",
       "      <td>2</td>\n",
       "      <td>2</td>\n",
       "    </tr>\n",
       "    <tr>\n",
       "      <th>6</th>\n",
       "      <td>2650000</td>\n",
       "      <td>167</td>\n",
       "      <td>98</td>\n",
       "      <td>2</td>\n",
       "      <td>2</td>\n",
       "    </tr>\n",
       "    <tr>\n",
       "      <th>7</th>\n",
       "      <td>2650000</td>\n",
       "      <td>167</td>\n",
       "      <td>98</td>\n",
       "      <td>2</td>\n",
       "      <td>2</td>\n",
       "    </tr>\n",
       "    <tr>\n",
       "      <th>8</th>\n",
       "      <td>2650000</td>\n",
       "      <td>167</td>\n",
       "      <td>98</td>\n",
       "      <td>2</td>\n",
       "      <td>2</td>\n",
       "    </tr>\n",
       "    <tr>\n",
       "      <th>9</th>\n",
       "      <td>2650000</td>\n",
       "      <td>167</td>\n",
       "      <td>98</td>\n",
       "      <td>2</td>\n",
       "      <td>2</td>\n",
       "    </tr>\n",
       "    <tr>\n",
       "      <th>10</th>\n",
       "      <td>2650000</td>\n",
       "      <td>167</td>\n",
       "      <td>98</td>\n",
       "      <td>2</td>\n",
       "      <td>3</td>\n",
       "    </tr>\n",
       "    <tr>\n",
       "      <th>11</th>\n",
       "      <td>2040000</td>\n",
       "      <td>106</td>\n",
       "      <td>98</td>\n",
       "      <td>2</td>\n",
       "      <td>2</td>\n",
       "    </tr>\n",
       "    <tr>\n",
       "      <th>12</th>\n",
       "      <td>32000000</td>\n",
       "      <td>657</td>\n",
       "      <td>975</td>\n",
       "      <td>5</td>\n",
       "      <td>5</td>\n",
       "    </tr>\n",
       "    <tr>\n",
       "      <th>13</th>\n",
       "      <td>32000000</td>\n",
       "      <td>657</td>\n",
       "      <td>975</td>\n",
       "      <td>5</td>\n",
       "      <td>5</td>\n",
       "    </tr>\n",
       "    <tr>\n",
       "      <th>14</th>\n",
       "      <td>10900000</td>\n",
       "      <td>540</td>\n",
       "      <td>975</td>\n",
       "      <td>3</td>\n",
       "      <td>4</td>\n",
       "    </tr>\n",
       "    <tr>\n",
       "      <th>15</th>\n",
       "      <td>6500000</td>\n",
       "      <td>440</td>\n",
       "      <td>973</td>\n",
       "      <td>5</td>\n",
       "      <td>6</td>\n",
       "    </tr>\n",
       "    <tr>\n",
       "      <th>16</th>\n",
       "      <td>10200000</td>\n",
       "      <td>408</td>\n",
       "      <td>971</td>\n",
       "      <td>3</td>\n",
       "      <td>5</td>\n",
       "    </tr>\n",
       "    <tr>\n",
       "      <th>17</th>\n",
       "      <td>1300000</td>\n",
       "      <td>96</td>\n",
       "      <td>96</td>\n",
       "      <td>3</td>\n",
       "      <td>2</td>\n",
       "    </tr>\n",
       "    <tr>\n",
       "      <th>18</th>\n",
       "      <td>1200000</td>\n",
       "      <td>96</td>\n",
       "      <td>96</td>\n",
       "      <td>2</td>\n",
       "      <td>2</td>\n",
       "    </tr>\n",
       "    <tr>\n",
       "      <th>19</th>\n",
       "      <td>2750000</td>\n",
       "      <td>193</td>\n",
       "      <td>96</td>\n",
       "      <td>2</td>\n",
       "      <td>3</td>\n",
       "    </tr>\n",
       "  </tbody>\n",
       "</table>\n",
       "</div>"
      ],
      "text/plain": [
       "      precio  mt construido  mt totales  cuartos  banos\n",
       "0    4715000            289         990        3      3\n",
       "1    2650000            167          99        2      2\n",
       "2    1740000            106          99        2      2\n",
       "3    6250000            365         985        3      4\n",
       "4     691095             56          98        2      1\n",
       "5    2750000            167          98        2      2\n",
       "6    2650000            167          98        2      2\n",
       "7    2650000            167          98        2      2\n",
       "8    2650000            167          98        2      2\n",
       "9    2650000            167          98        2      2\n",
       "10   2650000            167          98        2      3\n",
       "11   2040000            106          98        2      2\n",
       "12  32000000            657         975        5      5\n",
       "13  32000000            657         975        5      5\n",
       "14  10900000            540         975        3      4\n",
       "15   6500000            440         973        5      6\n",
       "16  10200000            408         971        3      5\n",
       "17   1300000             96          96        3      2\n",
       "18   1200000             96          96        2      2\n",
       "19   2750000            193          96        2      3"
      ]
     },
     "execution_count": 11,
     "metadata": {},
     "output_type": "execute_result"
    }
   ],
   "source": [
    "base_inmuebles.head(20)"
   ]
  },
  {
   "cell_type": "code",
   "execution_count": 13,
   "id": "0b930f68-e552-4ab9-8bbc-798f5270a341",
   "metadata": {
    "jupyter": {
     "source_hidden": true
    },
    "tags": []
   },
   "outputs": [
    {
     "data": {
      "text/plain": [
       "(2355, 5)"
      ]
     },
     "execution_count": 13,
     "metadata": {},
     "output_type": "execute_result"
    }
   ],
   "source": [
    "base_inmuebles.shape"
   ]
  },
  {
   "cell_type": "markdown",
   "id": "968afbcb-e9ba-40c6-93da-e461bcac6259",
   "metadata": {},
   "source": [
    "Podemos observar que la base cuenta con 2356 registros de 5 variables, las cuales son: _precio_, _mt construido_, _mt totales_, _cuartos_ y _banos_. Las cuales representan el costo de la vivienda, los metros que se han construido, los metros del terreno, el número de recámaras y baños respectivamente.\n"
   ]
  },
  {
   "cell_type": "markdown",
   "id": "346ee6f1-168e-4388-bb35-3f1b2443ccb8",
   "metadata": {},
   "source": [
    "Haciendo un análisis exploratorio de los datos podemos obtener las siguientes características:"
   ]
  },
  {
   "cell_type": "code",
   "execution_count": 18,
   "id": "76b32911-2b8f-407c-bc75-e2d5d56e956b",
   "metadata": {
    "jupyter": {
     "source_hidden": true
    },
    "tags": []
   },
   "outputs": [
    {
     "data": {
      "text/html": [
       "<div>\n",
       "<style scoped>\n",
       "    .dataframe tbody tr th:only-of-type {\n",
       "        vertical-align: middle;\n",
       "    }\n",
       "\n",
       "    .dataframe tbody tr th {\n",
       "        vertical-align: top;\n",
       "    }\n",
       "\n",
       "    .dataframe thead th {\n",
       "        text-align: right;\n",
       "    }\n",
       "</style>\n",
       "<table border=\"1\" class=\"dataframe\">\n",
       "  <thead>\n",
       "    <tr style=\"text-align: right;\">\n",
       "      <th></th>\n",
       "      <th>precio</th>\n",
       "      <th>mt construido</th>\n",
       "      <th>mt totales</th>\n",
       "      <th>cuartos</th>\n",
       "      <th>banos</th>\n",
       "    </tr>\n",
       "  </thead>\n",
       "  <tbody>\n",
       "    <tr>\n",
       "      <th>count</th>\n",
       "      <td>2.355000e+03</td>\n",
       "      <td>2355.000000</td>\n",
       "      <td>2355.000000</td>\n",
       "      <td>2355.000000</td>\n",
       "      <td>2355.000000</td>\n",
       "    </tr>\n",
       "    <tr>\n",
       "      <th>mean</th>\n",
       "      <td>4.352325e+06</td>\n",
       "      <td>335.286624</td>\n",
       "      <td>341.663270</td>\n",
       "      <td>2.987261</td>\n",
       "      <td>2.931635</td>\n",
       "    </tr>\n",
       "    <tr>\n",
       "      <th>std</th>\n",
       "      <td>4.205017e+06</td>\n",
       "      <td>3996.326527</td>\n",
       "      <td>379.554575</td>\n",
       "      <td>0.861628</td>\n",
       "      <td>1.213419</td>\n",
       "    </tr>\n",
       "    <tr>\n",
       "      <th>min</th>\n",
       "      <td>2.983510e+05</td>\n",
       "      <td>24.000000</td>\n",
       "      <td>13.000000</td>\n",
       "      <td>1.000000</td>\n",
       "      <td>1.000000</td>\n",
       "    </tr>\n",
       "    <tr>\n",
       "      <th>25%</th>\n",
       "      <td>2.285530e+06</td>\n",
       "      <td>153.000000</td>\n",
       "      <td>164.500000</td>\n",
       "      <td>2.000000</td>\n",
       "      <td>2.000000</td>\n",
       "    </tr>\n",
       "    <tr>\n",
       "      <th>50%</th>\n",
       "      <td>3.200000e+06</td>\n",
       "      <td>212.000000</td>\n",
       "      <td>251.000000</td>\n",
       "      <td>3.000000</td>\n",
       "      <td>3.000000</td>\n",
       "    </tr>\n",
       "    <tr>\n",
       "      <th>75%</th>\n",
       "      <td>5.100000e+06</td>\n",
       "      <td>300.000000</td>\n",
       "      <td>385.000000</td>\n",
       "      <td>3.000000</td>\n",
       "      <td>4.000000</td>\n",
       "    </tr>\n",
       "    <tr>\n",
       "      <th>max</th>\n",
       "      <td>6.000000e+07</td>\n",
       "      <td>194050.000000</td>\n",
       "      <td>7589.000000</td>\n",
       "      <td>9.000000</td>\n",
       "      <td>9.000000</td>\n",
       "    </tr>\n",
       "  </tbody>\n",
       "</table>\n",
       "</div>"
      ],
      "text/plain": [
       "             precio  mt construido   mt totales      cuartos        banos\n",
       "count  2.355000e+03    2355.000000  2355.000000  2355.000000  2355.000000\n",
       "mean   4.352325e+06     335.286624   341.663270     2.987261     2.931635\n",
       "std    4.205017e+06    3996.326527   379.554575     0.861628     1.213419\n",
       "min    2.983510e+05      24.000000    13.000000     1.000000     1.000000\n",
       "25%    2.285530e+06     153.000000   164.500000     2.000000     2.000000\n",
       "50%    3.200000e+06     212.000000   251.000000     3.000000     3.000000\n",
       "75%    5.100000e+06     300.000000   385.000000     3.000000     4.000000\n",
       "max    6.000000e+07  194050.000000  7589.000000     9.000000     9.000000"
      ]
     },
     "execution_count": 18,
     "metadata": {},
     "output_type": "execute_result"
    }
   ],
   "source": [
    "base_inmuebles.describe()"
   ]
  },
  {
   "cell_type": "markdown",
   "id": "50624e94-7198-4ecc-a1e2-79060c2c5e9a",
   "metadata": {},
   "source": [
    "De aquí se obtiene que la media de precio por vivienda es de **$4,352,325**, la de los metros cuadrados construidos es de **335.2866** y la del terreno de **341.6632**; por su parte, tanto en cuartos como baños podemos concluir que tienen un promedio de **3** por vivienda si hacemos el redondeo correspondiente.\n",
    "También es importante destacar que nuestras tres primeras variables tienen desviaciones considerablemente altas, lo cual indica que es sencillo encontrar datos dentro de un rango alto de valores al rededor de estas. "
   ]
  },
  {
   "cell_type": "markdown",
   "id": "e7c18d89-5d24-4d3f-9932-7a8d7c70bffd",
   "metadata": {},
   "source": [
    "Observemos las gráficas de dispersión de cada una de las variables respecto al precio:"
   ]
  },
  {
   "cell_type": "code",
   "execution_count": 20,
   "id": "b75e82fa-dbd1-40e2-85c3-ea0e3bd516bd",
   "metadata": {
    "tags": []
   },
   "outputs": [],
   "source": [
    "import matplotlib.pyplot as plt\n",
    "import seaborn as sns\n",
    "from scipy.stats import norm\n",
    "from sklearn.preprocessing import StandardScaler\n",
    "from scipy import stats\n",
    "import warnings\n",
    "%matplotlib inline"
   ]
  },
  {
   "cell_type": "code",
   "execution_count": 48,
   "id": "007d5597-9127-435e-8a8d-28302940c4be",
   "metadata": {
    "tags": []
   },
   "outputs": [
    {
     "data": {
      "image/png": "[encoded data removed]",
      "text/plain": [
       "<Figure size 432x288 with 1 Axes>"
      ]
     },
     "metadata": {
      "needs_background": "light"
     },
     "output_type": "display_data"
    }
   ],
   "source": [
    "base_inmuebles.plot.scatter(x='mt construido', y='precio', xlim=(0,1750));\n"
   ]
  },
  {
   "cell_type": "code",
   "execution_count": 50,
   "id": "7b3344bb-7a71-42da-afde-1a817ab1d301",
   "metadata": {
    "tags": []
   },
   "outputs": [
    {
     "data": {
      "image/png": "[encoded data removed]",
      "text/plain": [
       "<Figure size 432x288 with 1 Axes>"
      ]
     },
     "metadata": {
      "needs_background": "light"
     },
     "output_type": "display_data"
    }
   ],
   "source": [
    "base_inmuebles.plot.scatter(x='mt totales', y='precio', xlim=(0,1750));\n"
   ]
  },
  {
   "cell_type": "code",
   "execution_count": 52,
   "id": "6c83308f-040d-4356-8a6c-4825dd7ab6f3",
   "metadata": {
    "jupyter": {
     "source_hidden": true
    },
    "tags": []
   },
   "outputs": [
    {
     "data": {
      "image/png": "[encoded data removed]",
      "text/plain": [
       "<Figure size 432x288 with 1 Axes>"
      ]
     },
     "metadata": {
      "needs_background": "light"
     },
     "output_type": "display_data"
    }
   ],
   "source": [
    "base_inmuebles.plot.scatter(x='cuartos', y='precio');"
   ]
  },
  {
   "cell_type": "code",
   "execution_count": 54,
   "id": "76337670-ab08-4bfe-b1b1-4f6aadb9fd5b",
   "metadata": {
    "jupyter": {
     "source_hidden": true
    },
    "tags": []
   },
   "outputs": [
    {
     "data": {
      "image/png": "[encoded data removed]",
      "text/plain": [
       "<Figure size 432x288 with 1 Axes>"
      ]
     },
     "metadata": {
      "needs_background": "light"
     },
     "output_type": "display_data"
    }
   ],
   "source": [
    "base_inmuebles.plot.scatter(x='banos', y='precio');\n"
   ]
  },
  {
   "cell_type": "markdown",
   "id": "94e817d4-6ac8-4959-adf8-0c9c58740b60",
   "metadata": {},
   "source": [
    "De manera intuitiva podemos pensar que existe algún tipo de relación lineal entre las variables de metros cuadrados de construcción y de terreno con el precio de una casa, para poder reforzar dicha hipótesis se realiza la matriz de correlación:"
   ]
  },
  {
   "cell_type": "code",
   "execution_count": 57,
   "id": "142f61ac-724e-4c75-9462-d6511ad26108",
   "metadata": {
    "jupyter": {
     "source_hidden": true
    },
    "tags": []
   },
   "outputs": [],
   "source": [
    "correlacion = base_inmuebles.corr()"
   ]
  },
  {
   "cell_type": "code",
   "execution_count": 67,
   "id": "c710a486-48a6-48ca-870e-0768b65a17fd",
   "metadata": {
    "jupyter": {
     "source_hidden": true
    },
    "tags": []
   },
   "outputs": [
    {
     "data": {
      "image/png": "[encoded data removed]",
      "text/plain": [
       "<Figure size 432x288 with 2 Axes>"
      ]
     },
     "metadata": {},
     "output_type": "display_data"
    }
   ],
   "source": [
    "sns.set(font_scale = 1.25)\n",
    "hm = sns.heatmap(correlacion, cbar=True, annot=True, square = True)\n",
    "plt.show()"
   ]
  },
  {
   "cell_type": "markdown",
   "id": "c4da805d-8e50-4713-8195-527244ced508",
   "metadata": {},
   "source": [
    "La matriz de correlación indica que la única variable con una relación lineal considerable con el precio de venta es la de de metros cuadrados del terreno. Por lo tanto hagamos una regresión simple de dichas variables:"
   ]
  },
  {
   "cell_type": "code",
   "execution_count": 75,
   "id": "7e5c7938-8f9c-4b75-a215-6f597aef82ee",
   "metadata": {
    "jupyter": {
     "source_hidden": true
    },
    "tags": []
   },
   "outputs": [],
   "source": [
    "explicada = base_inmuebles['precio']\n",
    "explicativa = base_inmuebles[['mt totales']]\n"
   ]
  },
  {
   "cell_type": "code",
   "execution_count": 70,
   "id": "9e3260f6-c914-4693-8f13-7fbc356b76dc",
   "metadata": {
    "jupyter": {
     "source_hidden": true
    },
    "tags": []
   },
   "outputs": [],
   "source": [
    "from sklearn.linear_model import LinearRegression"
   ]
  },
  {
   "cell_type": "code",
   "execution_count": 78,
   "id": "0c15f2ab-b72d-4c34-9cc7-1838187016a5",
   "metadata": {
    "jupyter": {
     "source_hidden": true
    },
    "tags": []
   },
   "outputs": [],
   "source": [
    "model = LinearRegression()\n",
    "model.fit (X= explicativa, y = explicada);"
   ]
  },
  {
   "cell_type": "code",
   "execution_count": 80,
   "id": "d9330e08-97da-4e05-a063-8562830efce0",
   "metadata": {
    "jupyter": {
     "source_hidden": true
    },
    "tags": []
   },
   "outputs": [
    {
     "data": {
      "text/plain": [
       "{'fit_intercept': True,\n",
       " 'normalize': 'deprecated',\n",
       " 'copy_X': True,\n",
       " 'n_jobs': None,\n",
       " 'positive': False,\n",
       " 'feature_names_in_': array(['mt totales'], dtype=object),\n",
       " 'n_features_in_': 1,\n",
       " 'coef_': array([8167.32323632]),\n",
       " '_residues': 1.9002695113857172e+16,\n",
       " 'rank_': 1,\n",
       " 'singular_': array([18415.24325044]),\n",
       " 'intercept_': 1561850.3454608023}"
      ]
     },
     "execution_count": 80,
     "metadata": {},
     "output_type": "execute_result"
    }
   ],
   "source": [
    "model.__dict__"
   ]
  },
  {
   "cell_type": "markdown",
   "id": "9c3c65a3-35ce-4d76-8e7a-f78b21efc674",
   "metadata": {},
   "source": [
    "De aquí podemos obtener la siguiente función de regresión: "
   ]
  },
  {
   "cell_type": "markdown",
   "id": "68d78f31-b97c-4ee1-8505-fb27a4467321",
   "metadata": {},
   "source": [
    " $$Precio = 1,561,850.3454 + 8167.3232 \\cdot m^{2}$$"
   ]
  },
  {
   "cell_type": "markdown",
   "id": "5a9fc55d-2082-4fc2-9287-06d5828d5568",
   "metadata": {},
   "source": [
    "Hagamos un ejemplo de predicción de una vivienda que tiene un total de **255$m^2$** de terreno:"
   ]
  },
  {
   "cell_type": "code",
   "execution_count": 91,
   "id": "899bf369-d655-4644-bebb-83f120b24559",
   "metadata": {
    "collapsed": true,
    "jupyter": {
     "outputs_hidden": true,
     "source_hidden": true
    },
    "tags": []
   },
   "outputs": [
    {
     "name": "stderr",
     "output_type": "stream",
     "text": [
      "C:\\Users\\Lenovo\\anaconda3\\lib\\site-packages\\sklearn\\base.py:450: UserWarning: X does not have valid feature names, but LinearRegression was fitted with feature names\n",
      "  warnings.warn(\n"
     ]
    },
    {
     "data": {
      "text/plain": [
       "array([3644517.77072295])"
      ]
     },
     "execution_count": 91,
     "metadata": {},
     "output_type": "execute_result"
    }
   ],
   "source": [
    "model.predict(X=[[255]])"
   ]
  },
  {
   "cell_type": "markdown",
   "id": "d326b611-6f03-4da7-b4b7-909649adacc6",
   "metadata": {},
   "source": [
    "Dando un precio de **$3,644,517.77**, valor que podemos comparar con los valores pertecientes a la base de datos:"
   ]
  },
  {
   "cell_type": "code",
   "execution_count": 99,
   "id": "36d47a37-630f-4a8a-aacf-52862d28ebd4",
   "metadata": {
    "jupyter": {
     "source_hidden": true
    },
    "tags": []
   },
   "outputs": [
    {
     "data": {
      "text/plain": [
       "3333700.0"
      ]
     },
     "execution_count": 99,
     "metadata": {},
     "output_type": "execute_result"
    }
   ],
   "source": [
    "base_255 = base_inmuebles['mt totales'] == 255\n",
    "regresion_255 = base_inmuebles[base_255]\n",
    "regresion_255['precio'].mean()"
   ]
  },
  {
   "cell_type": "markdown",
   "id": "032119ad-32e0-45a4-818a-b6cf50ac8d4d",
   "metadata": {},
   "source": [
    "Podemos comprobar que arroja un valor muy cercano a la media de los precios de todas las viviendas que cuentan con la misma cantidad de metros cuadrados de terreno."
   ]
  }
 ],
 "metadata": {
  "kernelspec": {
   "display_name": "Python 3 (ipykernel)",
   "language": "python",
   "name": "python3"
  },
  "language_info": {
   "codemirror_mode": {
    "name": "ipython",
    "version": 3
   },
   "file_extension": ".py",
   "mimetype": "text/x-python",
   "name": "python",
   "nbconvert_exporter": "python",
   "pygments_lexer": "ipython3",
   "version": "3.9.12"
  }
 },
 "nbformat": 4,
 "nbformat_minor": 5
}
