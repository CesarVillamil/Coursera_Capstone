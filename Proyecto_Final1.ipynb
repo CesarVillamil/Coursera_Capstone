{
 "cells": [
  {
   "cell_type": "markdown",
   "id": "7bca22f4-469a-4a2d-b124-ec8c49ae8c7a",
   "metadata": {},
   "source": [
    "Este notebook será usado para el proyecto final del curso"
   ]
  },
  {
   "cell_type": "code",
   "execution_count": 1,
   "id": "23ada7c9-e2c1-4738-bb8c-205e07e459a4",
   "metadata": {},
   "outputs": [],
   "source": [
    "import pandas as pd"
   ]
  },
  {
   "cell_type": "code",
   "execution_count": 2,
   "id": "872a55c5-8db9-4cf8-af30-2b3fc09f224c",
   "metadata": {},
   "outputs": [],
   "source": [
    "import numpy as np"
   ]
  },
  {
   "cell_type": "code",
   "execution_count": 3,
   "id": "def571fc-3111-4600-bf9c-94eff6e3bb86",
   "metadata": {},
   "outputs": [
    {
     "name": "stdout",
     "output_type": "stream",
     "text": [
      "¡Hola, Proyecto Final del Curso!\n"
     ]
    }
   ],
   "source": [
    "print('¡Hola, Proyecto Final del Curso!')"
   ]
  }
 ],
 "metadata": {
  "kernelspec": {
   "display_name": "Python 3 (ipykernel)",
   "language": "python",
   "name": "python3"
  },
  "language_info": {
   "codemirror_mode": {
    "name": "ipython",
    "version": 3
   },
   "file_extension": ".py",
   "mimetype": "text/x-python",
   "name": "python",
   "nbconvert_exporter": "python",
   "pygments_lexer": "ipython3",
   "version": "3.9.13"
  }
 },
 "nbformat": 4,
 "nbformat_minor": 5
}
