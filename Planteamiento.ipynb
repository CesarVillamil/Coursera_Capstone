{
 "cells": [
  {
   "cell_type": "markdown",
   "id": "528812db-3025-4e9f-8a6e-3bc5532b8280",
   "metadata": {},
   "source": [
    "# Problema"
   ]
  },
  {
   "cell_type": "markdown",
   "id": "a15e68de-b63b-4b6d-82ed-f0dfdc6ae607",
   "metadata": {},
   "source": [
    "Queremos encontrar relaciones y coincidencias en los precios de las casas ofertadas en la ciudad de Mérida, dicha oferta es mediante portales digitales."
   ]
  },
  {
   "cell_type": "markdown",
   "id": "b11daf35-fb8a-4ec5-b1ee-5d796d2f8342",
   "metadata": {},
   "source": [
    "# Datos"
   ]
  },
  {
   "cell_type": "markdown",
   "id": "083268ff-e6db-4187-9b72-d7abe6a00cbb",
   "metadata": {},
   "source": [
    "Los datos se obtienen de webscraping del portal Inmuebles24, para poder procesar estos datos de forma correcta podemos usar las siguientes librerías:"
   ]
  },
  {
   "cell_type": "code",
   "execution_count": 2,
   "id": "b66115ef-9a5a-4778-8f9f-6ce05766d43a",
   "metadata": {},
   "outputs": [],
   "source": [
    "import pandas as pd\n",
    "import numpy as np\n"
   ]
  },
  {
   "cell_type": "markdown",
   "id": "7a9b6ae6-09a6-463c-a791-5025731884f3",
   "metadata": {},
   "source": [
    "Los datos y el resto del trabajo se muestran en el siguiente código."
   ]
  }
 ],
 "metadata": {
  "kernelspec": {
   "display_name": "Python 3 (ipykernel)",
   "language": "python",
   "name": "python3"
  },
  "language_info": {
   "codemirror_mode": {
    "name": "ipython",
    "version": 3
   },
   "file_extension": ".py",
   "mimetype": "text/x-python",
   "name": "python",
   "nbconvert_exporter": "python",
   "pygments_lexer": "ipython3",
   "version": "3.9.13"
  }
 },
 "nbformat": 4,
 "nbformat_minor": 5
}
